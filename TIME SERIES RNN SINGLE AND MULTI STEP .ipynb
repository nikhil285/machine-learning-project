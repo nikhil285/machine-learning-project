{
 "cells": [
  {
   "cell_type": "code",
   "execution_count": 161,
   "metadata": {
    "colab": {},
    "colab_type": "code",
    "id": "OabeeefPilgR"
   },
   "outputs": [],
   "source": [
    "# Importing libraries\n",
    "import tensorflow as tf\n",
    "import matplotlib.pyplot as plt\n",
    "import matplotlib as mpl\n",
    "import pandas as pd\n",
    "import numpy as np\n",
    "import os\n",
    "from tensorflow.keras.models import Sequential, load_model\n",
    "from tensorflow.keras import layers\n",
    "\n",
    "mpl.rcParams['figure.figsize'] = (8,6)\n",
    "mpl.rcParams['axes.grid'] = False\n",
    "\n"
   ]
  },
  {
   "cell_type": "code",
   "execution_count": 162,
   "metadata": {
    "colab": {
     "base_uri": "https://localhost:8080/",
     "height": 306
    },
    "colab_type": "code",
    "id": "F7_B0Gywim1d",
    "outputId": "810bf8bd-c462-42b8-de0a-10785e5d81cb"
   },
   "outputs": [
    {
     "data": {
      "text/html": [
       "<div>\n",
       "<style scoped>\n",
       "    .dataframe tbody tr th:only-of-type {\n",
       "        vertical-align: middle;\n",
       "    }\n",
       "\n",
       "    .dataframe tbody tr th {\n",
       "        vertical-align: top;\n",
       "    }\n",
       "\n",
       "    .dataframe thead th {\n",
       "        text-align: right;\n",
       "    }\n",
       "</style>\n",
       "<table border=\"1\" class=\"dataframe\">\n",
       "  <thead>\n",
       "    <tr style=\"text-align: right;\">\n",
       "      <th></th>\n",
       "      <th>FN</th>\n",
       "      <th>IF</th>\n",
       "      <th>FT</th>\n",
       "    </tr>\n",
       "  </thead>\n",
       "  <tbody>\n",
       "    <tr>\n",
       "      <th>0</th>\n",
       "      <td>1</td>\n",
       "      <td>3</td>\n",
       "      <td>3</td>\n",
       "    </tr>\n",
       "    <tr>\n",
       "      <th>1</th>\n",
       "      <td>2</td>\n",
       "      <td>30</td>\n",
       "      <td>33</td>\n",
       "    </tr>\n",
       "    <tr>\n",
       "      <th>2</th>\n",
       "      <td>3</td>\n",
       "      <td>113</td>\n",
       "      <td>146</td>\n",
       "    </tr>\n",
       "    <tr>\n",
       "      <th>3</th>\n",
       "      <td>4</td>\n",
       "      <td>81</td>\n",
       "      <td>227</td>\n",
       "    </tr>\n",
       "    <tr>\n",
       "      <th>4</th>\n",
       "      <td>5</td>\n",
       "      <td>115</td>\n",
       "      <td>342</td>\n",
       "    </tr>\n",
       "  </tbody>\n",
       "</table>\n",
       "</div>"
      ],
      "text/plain": [
       "   FN   IF   FT\n",
       "0   1    3    3\n",
       "1   2   30   33\n",
       "2   3  113  146\n",
       "3   4   81  227\n",
       "4   5  115  342"
      ]
     },
     "execution_count": 162,
     "metadata": {},
     "output_type": "execute_result"
    }
   ],
   "source": [
    "\n",
    "df = pd.read_excel('failuretimes.xlsx', sheet_name='SYS1')\n",
    "\n",
    "df.head()"
   ]
  },
  {
   "cell_type": "code",
   "execution_count": 163,
   "metadata": {
    "colab": {
     "base_uri": "https://localhost:8080/",
     "height": 136
    },
    "colab_type": "code",
    "id": "zeJTeqgwim9v",
    "outputId": "4b8e9c0e-3138-4fc3-fca1-8d0b9ffd49bc"
   },
   "outputs": [
    {
     "data": {
      "text/plain": [
       "0      3\n",
       "1     33\n",
       "2    146\n",
       "3    227\n",
       "4    342\n",
       "Name: FT, dtype: int64"
      ]
     },
     "execution_count": 163,
     "metadata": {},
     "output_type": "execute_result"
    }
   ],
   "source": [
    "## using univariate feature\n",
    "\n",
    "X = df['FT']\n",
    "Y = df['FN']\n",
    "X.head()"
   ]
  },
  {
   "cell_type": "code",
   "execution_count": 123,
   "metadata": {
    "colab": {},
    "colab_type": "code",
    "id": "VLMYNIn-inKm"
   },
   "outputs": [],
   "source": [
    "X = X.values"
   ]
  },
  {
   "cell_type": "code",
   "execution_count": 157,
   "metadata": {
    "colab": {
     "base_uri": "https://localhost:8080/",
     "height": 34
    },
    "colab_type": "code",
    "id": "EPYIEY8MinTI",
    "outputId": "e6a0c6f3-f6a2-44a7-e1e0-f2a0d2f3f35b"
   },
   "outputs": [
    {
     "name": "stdout",
     "output_type": "stream",
     "text": [
      "2.960594732333751e-17\n",
      "1.0\n",
      "[-1.13768175e+00 -1.11707821e+00 -1.03947154e+00 -9.83841980e-01\n",
      " -9.04861739e-01 -8.98680677e-01 -8.97307107e-01 -8.34809699e-01\n",
      " -7.57889813e-01 -7.47588042e-01 -6.52811753e-01 -6.18472518e-01\n",
      " -5.65590096e-01 -5.49107263e-01 -4.74934515e-01 -4.14497461e-01\n",
      "  4.56482899e-02  1.28062454e-01  1.45918857e-01  2.24212313e-01\n",
      "  4.47417341e-01  4.85190500e-01  6.51392398e-01  6.98093758e-01\n",
      "  9.87916902e-01  1.11153815e+00  1.11840600e+00  1.90546127e+00\n",
      "  2.31753209e+00  2.32783386e+00  2.35255811e+00  2.35530525e+00\n",
      "  2.35530525e+00  2.36079952e+00  2.51669965e+00  2.56134066e+00\n",
      "  2.68221476e+00  2.72204828e+00  3.03590889e+00  3.24194430e+00\n",
      "  3.30856241e+00  3.48918679e+00  3.79961348e+00  3.97474358e+00\n",
      "  4.11004016e+00  4.24258961e+00  4.24671032e+00  4.30096631e+00\n",
      "  4.86138263e+00  5.78922876e+00  5.89087290e+00  5.90529538e+00\n",
      "  6.06531621e+00  6.15734536e+00  6.40252750e+00  6.53507695e+00\n",
      "  6.69715814e+00  6.71844846e+00  6.97187202e+00  7.48558698e+00\n",
      "  7.48558698e+00  7.64492103e+00  7.87155998e+00  8.12223640e+00\n",
      "  8.96148730e+00  9.33441140e+00  9.34127924e+00  9.35226780e+00\n",
      "  9.71557691e+00  9.97586831e+00  1.00060868e+01  1.00946821e+01\n",
      "  1.06509777e+01  1.08501452e+01  1.10561806e+01  1.14194898e+01\n",
      "  1.16124763e+01  1.17223618e+01  1.22910195e+01  1.29853589e+01\n",
      "  1.32909781e+01  1.34942663e+01  1.46995735e+01  1.54303124e+01\n",
      "  1.66548495e+01  1.72454844e+01  1.79205938e+01  1.84061505e+01\n",
      "  1.84288144e+01  1.90249436e+01  1.95221757e+01  2.11175765e+01\n",
      "  2.31298557e+01  2.41332482e+01  2.47122077e+01  2.47204491e+01\n",
      "  2.48996999e+01  2.61359124e+01  2.67299811e+01  2.77155172e+01\n",
      "  2.77361207e+01  2.78343309e+01  2.79085037e+01  2.79085037e+01\n",
      "  3.00444041e+01  3.09008246e+01  3.15484626e+01  3.20292119e+01\n",
      "  3.26301485e+01  3.27984108e+01  3.32990768e+01  3.46019074e+01\n",
      "  3.49089002e+01  3.51739991e+01  3.54803050e+01  3.55640928e+01\n",
      "  3.62440096e+01  3.68950815e+01  3.76381826e+01  3.76532918e+01\n",
      "  3.77048007e+01  3.80358309e+01  4.18193278e+01  4.18880063e+01\n",
      "  4.18948742e+01  4.26304206e+01  4.28852177e+01  4.34277776e+01\n",
      "  4.76515035e+01  4.99323155e+01  5.06500056e+01  5.10950420e+01\n",
      "  5.48620561e+01  5.56587264e+01  5.69388931e+01  5.97656989e+01]\n"
     ]
    }
   ],
   "source": [
    "## train test split for simple time series \n",
    "train_split = 30\n",
    "tf.random.set_seed(13)\n",
    "\n",
    "### standardize data\n",
    "X_mean = X[:train_split].mean()\n",
    "X_std = X[:train_split].std()\n",
    "X  = (X - X_mean)/ X_std\n",
    "print(X_mean)\n",
    "print(X_std)\n",
    "print((X))\n"
   ]
  },
  {
   "cell_type": "code",
   "execution_count": 125,
   "metadata": {
    "colab": {},
    "colab_type": "code",
    "id": "4MFlF_abinm0"
   },
   "outputs": [],
   "source": [
    "## utility functions\n",
    "\n",
    "## funtion to create data for univariate forecasting\n",
    "\n",
    "def sysdata(dataset, start_idx , end_idx , history_size, target_size):\n",
    "  data = []\n",
    "  labels = []\n",
    "  start_idx  = start_idx + history_size\n",
    "  if end_idx is None:\n",
    "    end_idx = len(dataset)- target_size\n",
    "  for i in range(start_idx , end_idx):\n",
    "    idxs = range(i-history_size , i)\n",
    "    data.append(np.reshape(dataset[idxs] , (history_size, 1))) ### reshape data\n",
    "    labels.append(dataset[i+target_size])\n",
    "  return np.array(data), np.array(labels)\n",
    "\n",
    "X_past = 20   ## last 20 values\n",
    "X_future = 0     ## future data\n",
    "\n",
    "x_train , y_train = sysdata(X , 0 , train_split , X_past , X_future)\n",
    "\n",
    "x_val , y_val = sysdata(X , train_split , None ,X_past , X_future)"
   ]
  },
  {
   "cell_type": "code",
   "execution_count": 126,
   "metadata": {
    "colab": {
     "base_uri": "https://localhost:8080/",
     "height": 51
    },
    "colab_type": "code",
    "id": "61E_3coTin1t",
    "outputId": "3353ffc3-caf2-49d8-f89d-d61773cc1da8"
   },
   "outputs": [
    {
     "name": "stdout",
     "output_type": "stream",
     "text": [
      "(10, 20, 1) (10,)\n",
      "(86, 20, 1) (86,)\n"
     ]
    }
   ],
   "source": [
    "print(x_train.shape , y_train.shape)\n",
    "print(x_val.shape , y_val.shape)"
   ]
  },
  {
   "cell_type": "code",
   "execution_count": 127,
   "metadata": {
    "colab": {
     "base_uri": "https://localhost:8080/",
     "height": 374
    },
    "colab_type": "code",
    "id": "jtbMSRusin70",
    "outputId": "8edffc0a-4a79-4949-d05d-f9de9f0e8e80"
   },
   "outputs": [
    {
     "name": "stdout",
     "output_type": "stream",
     "text": [
      "Single STEP of past data [[-1.13768175]\n",
      " [-1.11707821]\n",
      " [-1.03947154]\n",
      " [-0.98384198]\n",
      " [-0.90486174]\n",
      " [-0.89868068]\n",
      " [-0.89730711]\n",
      " [-0.8348097 ]\n",
      " [-0.75788981]\n",
      " [-0.74758804]\n",
      " [-0.65281175]\n",
      " [-0.61847252]\n",
      " [-0.5655901 ]\n",
      " [-0.54910726]\n",
      " [-0.47493451]\n",
      " [-0.41449746]\n",
      " [ 0.04564829]\n",
      " [ 0.12806245]\n",
      " [ 0.14591886]\n",
      " [ 0.22421231]]\n",
      "Target VALUE to predict  0.4474173411656144\n"
     ]
    }
   ],
   "source": [
    "print('Single STEP of past data' , x_train[0])\n",
    "\n",
    "print('Target VALUE to predict ' , y_train[0])\n"
   ]
  },
  {
   "cell_type": "code",
   "execution_count": 128,
   "metadata": {
    "colab": {
     "base_uri": "https://localhost:8080/",
     "height": 422
    },
    "colab_type": "code",
    "id": "A411EMdxioEV",
    "outputId": "c9675378-9c3f-498a-c440-d9dc3e54eaef"
   },
   "outputs": [
    {
     "data": {
      "text/plain": [
       "<module 'matplotlib.pyplot' from 'C:\\\\Users\\\\navee\\\\anaconda3\\\\lib\\\\site-packages\\\\matplotlib\\\\pyplot.py'>"
      ]
     },
     "execution_count": 128,
     "metadata": {},
     "output_type": "execute_result"
    },
    {
     "data": {
      "image/png": "[encoded data removed]",
      "text/plain": [
       "<Figure size 576x432 with 1 Axes>"
      ]
     },
     "metadata": {
      "needs_background": "light"
     },
     "output_type": "display_data"
    }
   ],
   "source": [
    "### fucntion to create time steps\n",
    "def create_time_steps(length):\n",
    "    return list(range(-length,0))\n",
    "\n",
    "### function to plot time series data\n",
    "\n",
    "def plot_time_series(plot_data, pred , title):\n",
    "    labels = [\"PAST\" , 'Given Future' , 'prediction']\n",
    "    marker = ['.-' , 'rx' , 'go']\n",
    "    time_steps = create_time_steps(plot_data[0].shape[0])\n",
    "\n",
    "    if pred:\n",
    "        future = pred\n",
    "    else:\n",
    "        future = 0\n",
    "    plt.title(title)\n",
    "    for i , x in enumerate(plot_data):\n",
    "        if i :\n",
    "            plt.plot(future , plot_data[i] , marker[i], markersize = 10 , label = labels[i])\n",
    "        else:\n",
    "            plt.plot(time_steps, plot_data[i].flatten(), marker[i], label = labels[i])\n",
    "    plt.legend()\n",
    "    plt.xlim([time_steps[0], (future+5) *2])\n",
    "\n",
    "    plt.xlabel('Time_Step')\n",
    "    return plt\n",
    "\n",
    "plot_time_series([x_train[0] , y_train[0]] , 0 , 'Sample Example')"
   ]
  },
  {
   "cell_type": "code",
   "execution_count": 129,
   "metadata": {
    "colab": {
     "base_uri": "https://localhost:8080/",
     "height": 422
    },
    "colab_type": "code",
    "id": "b5X3X05xioK0",
    "outputId": "d4442f52-0016-4061-d113-c9223ddff459"
   },
   "outputs": [
    {
     "data": {
      "text/plain": [
       "<module 'matplotlib.pyplot' from 'C:\\\\Users\\\\navee\\\\anaconda3\\\\lib\\\\site-packages\\\\matplotlib\\\\pyplot.py'>"
      ]
     },
     "execution_count": 129,
     "metadata": {},
     "output_type": "execute_result"
    },
    {
     "data": {
      "image/png": "[encoded data removed]",
      "text/plain": [
       "<Figure size 576x432 with 1 Axes>"
      ]
     },
     "metadata": {
      "needs_background": "light"
     },
     "output_type": "display_data"
    }
   ],
   "source": [
    "i = 5\n",
    "plot_time_series([x_train[i], y_train[i]] , 0 , 'Sample Example')"
   ]
  },
  {
   "cell_type": "code",
   "execution_count": 130,
   "metadata": {
    "colab": {
     "base_uri": "https://localhost:8080/",
     "height": 51
    },
    "colab_type": "code",
    "id": "zPd4HuN-ior8",
    "outputId": "739b28f3-18c7-4db0-efce-447de9a5b884"
   },
   "outputs": [
    {
     "name": "stdout",
     "output_type": "stream",
     "text": [
      "(20, 1)\n"
     ]
    }
   ],
   "source": [
    "## prepare tensorflow dataset Univariate time-series forecasting\n",
    "batch_size = 32\n",
    "buffer_size = 100\n",
    "\n",
    "train = tf.data.Dataset.from_tensor_slices((x_train , y_train))\n",
    "train = train.cache().shuffle(buffer_size).batch(batch_size).repeat()\n",
    "\n",
    "val = tf.data.Dataset.from_tensor_slices((x_val , y_val))\n",
    "val = val.cache().shuffle(buffer_size).batch(batch_size).repeat()\n",
    "\n",
    "# print(train)\n",
    "# print(val)\n",
    "print(x_train.shape[-2:])"
   ]
  },
  {
   "cell_type": "code",
   "execution_count": 151,
   "metadata": {
    "colab": {
     "base_uri": "https://localhost:8080/",
     "height": 374
    },
    "colab_type": "code",
    "id": "uB-3VgOJioyT",
    "outputId": "51383501-4165-4bd6-800f-b47269e8d88e"
   },
   "outputs": [
    {
     "name": "stdout",
     "output_type": "stream",
     "text": [
      "Epoch 1/10\n",
      "200/200 [==============================] - 5s 15ms/step - loss: 0.8553 - accuracy: 0.0000e+00 - val_loss: 754.9992 - val_accuracy: 0.0000e+00\n",
      "Epoch 2/10\n",
      "200/200 [==============================] - 1s 4ms/step - loss: 0.0192 - accuracy: 0.0000e+00 - val_loss: 742.7506 - val_accuracy: 0.0000e+00\n",
      "Epoch 3/10\n",
      "200/200 [==============================] - 1s 4ms/step - loss: 0.0082 - accuracy: 0.0000e+00 - val_loss: 745.5364 - val_accuracy: 0.0000e+00\n",
      "Epoch 4/10\n",
      "200/200 [==============================] - 1s 4ms/step - loss: 0.0059 - accuracy: 0.0000e+00 - val_loss: 745.9955 - val_accuracy: 0.0000e+00\n",
      "Epoch 5/10\n",
      "200/200 [==============================] - 1s 4ms/step - loss: 0.0025 - accuracy: 0.0000e+00 - val_loss: 749.9476 - val_accuracy: 0.0000e+00\n",
      "Epoch 6/10\n",
      "200/200 [==============================] - 1s 5ms/step - loss: 0.0013 - accuracy: 0.0000e+00 - val_loss: 748.3197 - val_accuracy: 0.0000e+00\n",
      "Epoch 7/10\n",
      "200/200 [==============================] - 1s 6ms/step - loss: 9.0463e-04 - accuracy: 0.0000e+00 - val_loss: 748.6111 - val_accuracy: 0.0000e+00\n",
      "Epoch 8/10\n",
      "200/200 [==============================] - 1s 7ms/step - loss: 6.7952e-04 - accuracy: 0.0000e+00 - val_loss: 749.1790 - val_accuracy: 0.0000e+00\n",
      "Epoch 9/10\n",
      "200/200 [==============================] - 1s 6ms/step - loss: 5.5357e-04 - accuracy: 0.0000e+00 - val_loss: 750.1178 - val_accuracy: 0.0000e+00\n",
      "Epoch 10/10\n",
      "200/200 [==============================] - 1s 5ms/step - loss: 4.7197e-04 - accuracy: 0.0000e+00 - val_loss: 747.9791 - val_accuracy: 0.0000e+00\n",
      "Model: \"sequential_19\"\n",
      "_________________________________________________________________\n",
      "Layer (type)                 Output Shape              Param #   \n",
      "=================================================================\n",
      "simple_rnn_23 (SimpleRNN)    (None, 16)                288       \n",
      "_________________________________________________________________\n",
      "dense_28 (Dense)             (None, 1)                 17        \n",
      "_________________________________________________________________\n",
      "dense_29 (Dense)             (None, 1)                 2         \n",
      "=================================================================\n",
      "Total params: 307\n",
      "Trainable params: 307\n",
      "Non-trainable params: 0\n",
      "_________________________________________________________________\n"
     ]
    }
   ],
   "source": [
    "## SimpleRNN model \n",
    "\n",
    "model = tf.keras.models.Sequential([tf.keras.layers.SimpleRNN(16 , input_shape = (20,1)), \n",
    "                                         tf.keras.layers.Dense(1), tf.keras.layers.Dense(1)])\n",
    "\n",
    "model.compile(optimizer = 'adam', loss = 'mean_squared_error', metrics = 'accuracy')\n",
    "\n",
    "steps = 200\n",
    "\n",
    "EPOCHS =10\n",
    "\n",
    "model.fit(train , epochs = EPOCHS, steps_per_epoch = steps ,\n",
    "               validation_data = val, validation_steps = 50)\n",
    "model.summary()\n"
   ]
  },
  {
   "cell_type": "code",
   "execution_count": 132,
   "metadata": {
    "colab": {
     "base_uri": "https://localhost:8080/",
     "height": 1000
    },
    "colab_type": "code",
    "id": "DKEA53lliov0",
    "outputId": "fb4cf444-7200-4992-9758-fa70c0043598"
   },
   "outputs": [
    {
     "name": "stdout",
     "output_type": "stream",
     "text": [
      "WARNING:tensorflow:8 out of the last 12 calls to <function Model.make_predict_function.<locals>.predict_function at 0x000001CE3E68F700> triggered tf.function retracing. Tracing is expensive and the excessive number of tracings could be due to (1) creating @tf.function repeatedly in a loop, (2) passing tensors with different shapes, (3) passing Python objects instead of tensors. For (1), please define your @tf.function outside of the loop. For (2), @tf.function has experimental_relax_shapes=True option that relaxes argument shapes that can avoid unnecessary retracing. For (3), please refer to https://www.tensorflow.org/guide/function#controlling_retracing and https://www.tensorflow.org/api_docs/python/tf/function for  more details.\n"
     ]
    },
    {
     "data": {
      "image/png": "[encoded data removed]",
      "text/plain": [
       "<Figure size 576x432 with 1 Axes>"
      ]
     },
     "metadata": {
      "needs_background": "light"
     },
     "output_type": "display_data"
    }
   ],
   "source": [
    "for i , j in val.take(1):\n",
    "    plot = plot_time_series([i[0].numpy() , j[0].numpy() , model.predict(i)[0]] ,0 , 'RNN SINGLE STEP')\n",
    "    plot.show()"
   ]
  },
  {
   "cell_type": "code",
   "execution_count": 133,
   "metadata": {
    "colab": {
     "base_uri": "https://localhost:8080/",
     "height": 235
    },
    "colab_type": "code",
    "id": "Hh2HnNjxiopi",
    "outputId": "a56dd85c-86c9-4e8a-aa7c-892eb4b342d1"
   },
   "outputs": [
    {
     "data": {
      "text/html": [
       "<div>\n",
       "<style scoped>\n",
       "    .dataframe tbody tr th:only-of-type {\n",
       "        vertical-align: middle;\n",
       "    }\n",
       "\n",
       "    .dataframe tbody tr th {\n",
       "        vertical-align: top;\n",
       "    }\n",
       "\n",
       "    .dataframe thead th {\n",
       "        text-align: right;\n",
       "    }\n",
       "</style>\n",
       "<table border=\"1\" class=\"dataframe\">\n",
       "  <thead>\n",
       "    <tr style=\"text-align: right;\">\n",
       "      <th></th>\n",
       "      <th>FT</th>\n",
       "      <th>IF</th>\n",
       "    </tr>\n",
       "  </thead>\n",
       "  <tbody>\n",
       "    <tr>\n",
       "      <th>0</th>\n",
       "      <td>3</td>\n",
       "      <td>3</td>\n",
       "    </tr>\n",
       "    <tr>\n",
       "      <th>1</th>\n",
       "      <td>33</td>\n",
       "      <td>30</td>\n",
       "    </tr>\n",
       "    <tr>\n",
       "      <th>2</th>\n",
       "      <td>146</td>\n",
       "      <td>113</td>\n",
       "    </tr>\n",
       "    <tr>\n",
       "      <th>3</th>\n",
       "      <td>227</td>\n",
       "      <td>81</td>\n",
       "    </tr>\n",
       "    <tr>\n",
       "      <th>4</th>\n",
       "      <td>342</td>\n",
       "      <td>115</td>\n",
       "    </tr>\n",
       "  </tbody>\n",
       "</table>\n",
       "</div>"
      ],
      "text/plain": [
       "    FT   IF\n",
       "0    3    3\n",
       "1   33   30\n",
       "2  146  113\n",
       "3  227   81\n",
       "4  342  115"
      ]
     },
     "execution_count": 133,
     "metadata": {},
     "output_type": "execute_result"
    }
   ],
   "source": [
    "## features Multivariate and Single step Forecasting\n",
    "\n",
    "features = ['FT','IF']\n",
    "\n",
    "features = df[features]\n",
    "target = df['FN']\n",
    "features.head()\n"
   ]
  },
  {
   "cell_type": "code",
   "execution_count": 134,
   "metadata": {
    "colab": {
     "base_uri": "https://localhost:8080/",
     "height": 475
    },
    "colab_type": "code",
    "id": "Uaz4LXuUioiq",
    "outputId": "2ed6f021-f8e5-43a0-b301-21be42024f6d"
   },
   "outputs": [
    {
     "data": {
      "text/plain": [
       "array([<AxesSubplot:>, <AxesSubplot:>], dtype=object)"
      ]
     },
     "execution_count": 134,
     "metadata": {},
     "output_type": "execute_result"
    },
    {
     "data": {
      "image/png": "[encoded data removed]",
      "text/plain": [
       "<Figure size 576x432 with 2 Axes>"
      ]
     },
     "metadata": {
      "needs_background": "light"
     },
     "output_type": "display_data"
    }
   ],
   "source": [
    "features.plot(subplots=True)"
   ]
  },
  {
   "cell_type": "code",
   "execution_count": 135,
   "metadata": {
    "colab": {},
    "colab_type": "code",
    "id": "n5Ft3nfyiogy"
   },
   "outputs": [],
   "source": [
    "### standardize data\n",
    "dataset = features.values\n",
    "\n",
    "data_mean = dataset[:train_split].mean(axis =0)\n",
    "\n",
    "data_std = dataset[:train_split].std(axis = 0)\n",
    "\n",
    "dataset = (dataset - data_mean)/data_std\n",
    "\n"
   ]
  },
  {
   "cell_type": "code",
   "execution_count": 136,
   "metadata": {
    "colab": {},
    "colab_type": "code",
    "id": "i4LP5gdAiocw"
   },
   "outputs": [],
   "source": [
    "### create mutlivariate data\n",
    "\n",
    "def sys1data(dataset , target , start_idx , end_idx , history_size , target_size,\n",
    "                      step ,  single_step = False):\n",
    "  data = []\n",
    "  labels = []\n",
    "  start_idx = start_idx + history_size\n",
    "  if end_idx is None:\n",
    "    end_idx = len(dataset)- target_size\n",
    "  for i in range(start_idx , end_idx ):\n",
    "    idxs = range(i-history_size, i, step) ### using step\n",
    "    data.append(dataset[idxs])\n",
    "    if single_step:\n",
    "      labels.append(target[i+target_size])\n",
    "    else:\n",
    "      labels.append(target[i:i+target_size])\n",
    "\n",
    "  return np.array(data) , np.array(labels)\n",
    "\n"
   ]
  },
  {
   "cell_type": "code",
   "execution_count": 137,
   "metadata": {
    "colab": {
     "base_uri": "https://localhost:8080/",
     "height": 34
    },
    "colab_type": "code",
    "id": "qmdeBNcuioYX",
    "outputId": "d6f3a6a9-ff5b-4b45-8eeb-35a96b06293a"
   },
   "outputs": [
    {
     "name": "stdout",
     "output_type": "stream",
     "text": [
      "(10, 4, 2) (10,)\n"
     ]
    }
   ],
   "source": [
    "### generate multivariate data\n",
    "\n",
    "history = 20\n",
    "future_target = 10\n",
    "STEP = 6\n",
    "\n",
    "x_train_sys , y_train_sys = sys1data(dataset , dataset[:, 1], 0, train_split, history,\n",
    "                                            future_target, STEP , single_step = True)\n",
    "\n",
    "x_val_sys , y_val_sys = sys1data(dataset , dataset[:,1] , train_split , None , history ,\n",
    "                                        future_target, STEP, single_step = True)\n",
    "\n",
    "print(x_train_sys.shape , y_train_sys.shape)\n"
   ]
  },
  {
   "cell_type": "code",
   "execution_count": 138,
   "metadata": {
    "colab": {
     "base_uri": "https://localhost:8080/",
     "height": 51
    },
    "colab_type": "code",
    "id": "Ufyzs-nFioVO",
    "outputId": "246c3cbd-082b-4345-efbc-7863582bb575"
   },
   "outputs": [
    {
     "name": "stdout",
     "output_type": "stream",
     "text": [
      "<RepeatDataset shapes: ((None, 4, 2), (None,)), types: (tf.float64, tf.float64)>\n",
      "<RepeatDataset shapes: ((None, 4, 2), (None,)), types: (tf.float64, tf.float64)>\n",
      "(4, 2)\n"
     ]
    }
   ],
   "source": [
    "## tensorflow dataset\n",
    "\n",
    "train_sys = tf.data.Dataset.from_tensor_slices((x_train_sys, y_train_sys))\n",
    "train_sys = train_sys.cache().shuffle(buffer_size).batch(batch_size).repeat()\n",
    "\n",
    "val_sys = tf.data.Dataset.from_tensor_slices((x_val_sys, y_val_sys))\n",
    "val_sys = val_sys.cache().shuffle(buffer_size).batch(batch_size).repeat()\n",
    "\n",
    "print(train_sys)\n",
    "print(val_sys)\n",
    "print(x_train_sys.shape[-2:])\n"
   ]
  },
  {
   "cell_type": "code",
   "execution_count": 139,
   "metadata": {
    "colab": {
     "base_uri": "https://localhost:8080/",
     "height": 357
    },
    "colab_type": "code",
    "id": "Rb2wsAl_ioQ5",
    "outputId": "f3e45add-1257-406c-d926-824837951a7e"
   },
   "outputs": [
    {
     "name": "stdout",
     "output_type": "stream",
     "text": [
      "Epoch 1/10\n",
      "200/200 [==============================] - 2s 3ms/step - loss: 0.1288 - val_loss: 29.3417\n",
      "Epoch 2/10\n",
      "200/200 [==============================] - 0s 2ms/step - loss: 0.0069 - val_loss: 29.3491\n",
      "Epoch 3/10\n",
      "200/200 [==============================] - 1s 4ms/step - loss: 3.6847e-04 - val_loss: 29.7531\n",
      "Epoch 4/10\n",
      "200/200 [==============================] - 1s 3ms/step - loss: 3.2090e-06 - val_loss: 30.0704\n",
      "Epoch 5/10\n",
      "200/200 [==============================] - 1s 3ms/step - loss: 8.2289e-09 - val_loss: 29.9717\n",
      "Epoch 6/10\n",
      "200/200 [==============================] - 1s 4ms/step - loss: 7.8663e-12 - val_loss: 30.1690\n",
      "Epoch 7/10\n",
      "200/200 [==============================] - 1s 4ms/step - loss: 7.6816e-14 - val_loss: 29.6050\n",
      "Epoch 8/10\n",
      "200/200 [==============================] - 1s 4ms/step - loss: 2.6169e-14 - val_loss: 29.8264\n",
      "Epoch 9/10\n",
      "200/200 [==============================] - 1s 4ms/step - loss: 3.9306e-14 - val_loss: 30.0508\n",
      "Epoch 10/10\n",
      "200/200 [==============================] - 1s 6ms/step - loss: 9.8776e-14 - val_loss: 30.1626\n"
     ]
    }
   ],
   "source": [
    "### Modelling using LSTM\n",
    "\n",
    "single_step_model = tf.keras.models.Sequential()\n",
    "\n",
    "single_step_model.add(tf.keras.layers.SimpleRNN(32, input_shape =(4, 2)))\n",
    "single_step_model.add(tf.keras.layers.Dense(1))\n",
    "single_step_model.compile(optimizer = tf.keras.optimizers.Adam(), loss = 'mean_squared_error')\n",
    "single_step_model_history = single_step_model.fit(train_sys, epochs = EPOCHS , \n",
    "                                                  steps_per_epoch =steps, validation_data = val_sys,\n",
    "                                                  validation_steps = 50)\n"
   ]
  },
  {
   "cell_type": "code",
   "execution_count": 140,
   "metadata": {
    "colab": {
     "base_uri": "https://localhost:8080/",
     "height": 390
    },
    "colab_type": "code",
    "id": "6-z4nTiFioND",
    "outputId": "c79a043e-97bc-4662-a842-069fdbbb432c"
   },
   "outputs": [
    {
     "data": {
      "image/png": "[encoded data removed]",
      "text/plain": [
       "<Figure size 576x432 with 1 Axes>"
      ]
     },
     "metadata": {
      "needs_background": "light"
     },
     "output_type": "display_data"
    }
   ],
   "source": [
    "## plot train test loss \n",
    "\n",
    "def plotloss(history , title):\n",
    "  loss = history.history['loss']\n",
    "  valloss = history.history['val_loss']\n",
    "\n",
    "  epochs = range(len(loss))\n",
    "  plt.figure()\n",
    "  plt.plot(epochs, loss , 'b' , label = 'Training Loss')\n",
    "  plt.plot(epochs, valloss , 'r' , label = 'Validation Loss')\n",
    "  plt.title(title)\n",
    "  plt.legend()\n",
    "  plt.grid()\n",
    "  plt.show()\n",
    "\n",
    "plotloss(single_step_model_history , 'Single Step Training and validation loss')"
   ]
  },
  {
   "cell_type": "code",
   "execution_count": 141,
   "metadata": {
    "colab": {
     "base_uri": "https://localhost:8080/",
     "height": 1000
    },
    "colab_type": "code",
    "id": "b2lNfZZLioJG",
    "outputId": "b9ab67ae-4941-4ae1-a589-baa8bffebd18"
   },
   "outputs": [
    {
     "name": "stdout",
     "output_type": "stream",
     "text": [
      "WARNING:tensorflow:9 out of the last 13 calls to <function Model.make_predict_function.<locals>.predict_function at 0x000001CE41B76EE0> triggered tf.function retracing. Tracing is expensive and the excessive number of tracings could be due to (1) creating @tf.function repeatedly in a loop, (2) passing tensors with different shapes, (3) passing Python objects instead of tensors. For (1), please define your @tf.function outside of the loop. For (2), @tf.function has experimental_relax_shapes=True option that relaxes argument shapes that can avoid unnecessary retracing. For (3), please refer to https://www.tensorflow.org/guide/function#controlling_retracing and https://www.tensorflow.org/api_docs/python/tf/function for  more details.\n"
     ]
    },
    {
     "data": {
      "image/png": "[encoded data removed]",
      "text/plain": [
       "<Figure size 576x432 with 1 Axes>"
      ]
     },
     "metadata": {
      "needs_background": "light"
     },
     "output_type": "display_data"
    }
   ],
   "source": [
    "# plot time series and predicted values\n",
    "\n",
    "for x, y in val_sys.take(1):\n",
    "  plot = plot_time_series([x[0][:, 1].numpy(), y[0].numpy(),\n",
    "                    single_step_model.predict(x)[0]], 0,\n",
    "                   'RNN Single Step Prediction')\n",
    "  plot.show()"
   ]
  },
  {
   "cell_type": "code",
   "execution_count": 142,
   "metadata": {
    "colab": {
     "base_uri": "https://localhost:8080/",
     "height": 51
    },
    "colab_type": "code",
    "id": "c9g7pWStioAV",
    "outputId": "de2d7375-4614-4369-c8a7-0469bf395648"
   },
   "outputs": [
    {
     "name": "stdout",
     "output_type": "stream",
     "text": [
      "(10, 4, 2)\n",
      "(10, 72)\n"
     ]
    }
   ],
   "source": [
    "# Multi-variate & multi-step forecasting -> Generate multiple future values of failures\n",
    "future_target = 72 # 72 future values\n",
    "x_train_multi, y_train_multi = sys1data(dataset, dataset[:, 1], 0,\n",
    "                                                 train_split, history,\n",
    "                                                 future_target, STEP)\n",
    "x_val_multi, y_val_multi = sys1data(dataset, dataset[:, 1],\n",
    "                                             train_split, None, history,\n",
    "                                             future_target, STEP)\n",
    "\n",
    "print(x_train_multi.shape)\n",
    "print(y_train_multi.shape)"
   ]
  },
  {
   "cell_type": "code",
   "execution_count": 143,
   "metadata": {
    "colab": {},
    "colab_type": "code",
    "id": "Fkwcf3UNin6l"
   },
   "outputs": [],
   "source": [
    "# TF DATASET\n",
    "\n",
    "train_data_multi = tf.data.Dataset.from_tensor_slices((x_train_multi, y_train_multi))\n",
    "train_data_multi = train_data_multi.cache().shuffle(buffer_size).batch(batch_size).repeat()\n",
    "\n",
    "val_data_multi = tf.data.Dataset.from_tensor_slices((x_val_multi, y_val_multi))\n",
    "val_data_multi = val_data_multi.batch(batch_size).repeat()"
   ]
  },
  {
   "cell_type": "code",
   "execution_count": 144,
   "metadata": {
    "colab": {
     "base_uri": "https://localhost:8080/",
     "height": 374
    },
    "colab_type": "code",
    "id": "GPyypB20in0P",
    "outputId": "8dff268f-7ca0-4881-f4ee-704cd053f81e"
   },
   "outputs": [
    {
     "data": {
      "image/png": "[encoded data removed]",
      "text/plain": [
       "<Figure size 864x432 with 1 Axes>"
      ]
     },
     "metadata": {
      "needs_background": "light"
     },
     "output_type": "display_data"
    },
    {
     "name": "stdout",
     "output_type": "stream",
     "text": [
      "(4, 2)\n"
     ]
    }
   ],
   "source": [
    "#plotting function\n",
    "def multi_step_plot(history, true_future, prediction):\n",
    "  plt.figure(figsize=(12, 6))\n",
    "  num_in = create_time_steps(len(history))\n",
    "  num_out = len(true_future)\n",
    "  plt.grid()\n",
    "  plt.plot(num_in, np.array(history[:, 1]), label='History')\n",
    "  plt.plot(np.arange(num_out)/STEP, np.array(true_future), 'bo',\n",
    "           label='True Future')\n",
    "  if prediction.any():\n",
    "    plt.plot(np.arange(num_out)/STEP, np.array(prediction), 'ro',\n",
    "             label='Predicted Future')\n",
    "  plt.legend(loc='upper left')\n",
    "  plt.show()\n",
    "  \n",
    "\n",
    "\n",
    "for x, y in train_data_multi.take(1):\n",
    "  multi_step_plot(x[0], y[0], np.array([0]))\n",
    "\n",
    "print(x_train_multi.shape[-2:])"
   ]
  },
  {
   "cell_type": "code",
   "execution_count": 145,
   "metadata": {
    "colab": {
     "base_uri": "https://localhost:8080/",
     "height": 357
    },
    "colab_type": "code",
    "id": "28MmEpt8TD12",
    "outputId": "5cd8459f-2c71-4856-8326-1e22ec4f8fa4"
   },
   "outputs": [
    {
     "name": "stdout",
     "output_type": "stream",
     "text": [
      "Epoch 1/10\n",
      "200/200 [==============================] - 4s 6ms/step - loss: 1.3841 - val_loss: 2.9645\n",
      "Epoch 2/10\n",
      "200/200 [==============================] - 1s 3ms/step - loss: 0.9274 - val_loss: 3.1064\n",
      "Epoch 3/10\n",
      "200/200 [==============================] - 1s 3ms/step - loss: 0.7662 - val_loss: 3.2354\n",
      "Epoch 4/10\n",
      "200/200 [==============================] - 1s 4ms/step - loss: 0.6387 - val_loss: 3.2580\n",
      "Epoch 5/10\n",
      "200/200 [==============================] - 1s 4ms/step - loss: 0.5287 - val_loss: 3.3419\n",
      "Epoch 6/10\n",
      "200/200 [==============================] - 1s 3ms/step - loss: 0.4467 - val_loss: 3.4032\n",
      "Epoch 7/10\n",
      "200/200 [==============================] - 1s 5ms/step - loss: 0.3778 - val_loss: 3.4922\n",
      "Epoch 8/10\n",
      "200/200 [==============================] - 1s 4ms/step - loss: 0.3268 - val_loss: 3.5673\n",
      "Epoch 9/10\n",
      "200/200 [==============================] - 1s 3ms/step - loss: 0.2938 - val_loss: 3.6145\n",
      "Epoch 10/10\n",
      "200/200 [==============================] - 2s 9ms/step - loss: 0.2673 - val_loss: 3.6463\n"
     ]
    }
   ],
   "source": [
    "multi_step_model = tf.keras.models.Sequential()\n",
    "multi_step_model.add(tf.keras.layers.SimpleRNN(32,\n",
    "                                          return_sequences=True,\n",
    "                                          input_shape=(4,2)))\n",
    "multi_step_model.add(tf.keras.layers.SimpleRNN(16, activation='relu'))\n",
    "multi_step_model.add(tf.keras.layers.Dense(72)) # for 72 outputs\n",
    "\n",
    "multi_step_model.compile(optimizer=tf.keras.optimizers.RMSprop(clipvalue=1.0), loss='mae')\n",
    "\n",
    "multi_step_history = multi_step_model.fit(train_data_multi, epochs=EPOCHS,\n",
    "                                          steps_per_epoch=steps,\n",
    "                                          validation_data=val_data_multi,\n",
    "                                          validation_steps=50)"
   ]
  },
  {
   "cell_type": "code",
   "execution_count": 146,
   "metadata": {
    "colab": {
     "base_uri": "https://localhost:8080/",
     "height": 390
    },
    "colab_type": "code",
    "id": "zaCJerqLinvP",
    "outputId": "266d7736-69ed-4dc6-f46a-f025417209f0"
   },
   "outputs": [
    {
     "data": {
      "image/png": "[encoded data removed]",
      "text/plain": [
       "<Figure size 576x432 with 1 Axes>"
      ]
     },
     "metadata": {
      "needs_background": "light"
     },
     "output_type": "display_data"
    }
   ],
   "source": [
    "plotloss(multi_step_history, 'Multi-Step Training and validation loss')\n"
   ]
  },
  {
   "cell_type": "code",
   "execution_count": 147,
   "metadata": {
    "colab": {
     "base_uri": "https://localhost:8080/",
     "height": 1000
    },
    "colab_type": "code",
    "id": "9ohuOxLrinkt",
    "outputId": "df84339c-c680-49e0-d80e-def97e196e87"
   },
   "outputs": [
    {
     "name": "stdout",
     "output_type": "stream",
     "text": [
      "WARNING:tensorflow:10 out of the last 14 calls to <function Model.make_predict_function.<locals>.predict_function at 0x000001CE3624A5E0> triggered tf.function retracing. Tracing is expensive and the excessive number of tracings could be due to (1) creating @tf.function repeatedly in a loop, (2) passing tensors with different shapes, (3) passing Python objects instead of tensors. For (1), please define your @tf.function outside of the loop. For (2), @tf.function has experimental_relax_shapes=True option that relaxes argument shapes that can avoid unnecessary retracing. For (3), please refer to https://www.tensorflow.org/guide/function#controlling_retracing and https://www.tensorflow.org/api_docs/python/tf/function for  more details.\n"
     ]
    },
    {
     "data": {
      "image/png": "[encoded data removed]",
      "text/plain": [
       "<Figure size 864x432 with 1 Axes>"
      ]
     },
     "metadata": {
      "needs_background": "light"
     },
     "output_type": "display_data"
    }
   ],
   "source": [
    "for x, y in val_data_multi.take(1):\n",
    "  multi_step_plot(x[0], y[0], multi_step_model.predict(x)[0])"
   ]
  },
  {
   "cell_type": "code",
   "execution_count": 0,
   "metadata": {
    "colab": {},
    "colab_type": "code",
    "id": "mR8GfISvineh"
   },
   "outputs": [],
   "source": []
  },
  {
   "cell_type": "code",
   "execution_count": 0,
   "metadata": {
    "colab": {},
    "colab_type": "code",
    "id": "Fghz0HC4inWu"
   },
   "outputs": [],
   "source": []
  },
  {
   "cell_type": "code",
   "execution_count": 0,
   "metadata": {
    "colab": {},
    "colab_type": "code",
    "id": "mVJZCCyEinR6"
   },
   "outputs": [],
   "source": []
  },
  {
   "cell_type": "code",
   "execution_count": 0,
   "metadata": {
    "colab": {},
    "colab_type": "code",
    "id": "XwU_HaVDinNz"
   },
   "outputs": [],
   "source": []
  },
  {
   "cell_type": "code",
   "execution_count": 0,
   "metadata": {
    "colab": {},
    "colab_type": "code",
    "id": "pmUq6V7rinHc"
   },
   "outputs": [],
   "source": []
  },
  {
   "cell_type": "code",
   "execution_count": 0,
   "metadata": {
    "colab": {},
    "colab_type": "code",
    "id": "nWdiY-THinCH"
   },
   "outputs": [],
   "source": []
  },
  {
   "cell_type": "code",
   "execution_count": 0,
   "metadata": {
    "colab": {},
    "colab_type": "code",
    "id": "oMyZ_5Zyim7-"
   },
   "outputs": [],
   "source": []
  },
  {
   "cell_type": "code",
   "execution_count": 0,
   "metadata": {
    "colab": {},
    "colab_type": "code",
    "id": "Qc3pxLPBim4k"
   },
   "outputs": [],
   "source": []
  },
  {
   "cell_type": "code",
   "execution_count": 0,
   "metadata": {
    "colab": {},
    "colab_type": "code",
    "id": "w8y2R6zVim0X"
   },
   "outputs": [],
   "source": []
  },
  {
   "cell_type": "code",
   "execution_count": 0,
   "metadata": {
    "colab": {},
    "colab_type": "code",
    "id": "cR1L9pvfimt4"
   },
   "outputs": [],
   "source": []
  }
 ],
 "metadata": {
  "colab": {
   "collapsed_sections": [],
   "name": "Time Series Forecasting (Predicting Temperature) using LSTM .ipynb",
   "provenance": []
  },
  "kernelspec": {
   "display_name": "Python 3",
   "language": "python",
   "name": "python3"
  },
  "language_info": {
   "codemirror_mode": {
    "name": "ipython",
    "version": 3
   },
   "file_extension": ".py",
   "mimetype": "text/x-python",
   "name": "python",
   "nbconvert_exporter": "python",
   "pygments_lexer": "ipython3",
   "version": "3.8.5"
  }
 },
 "nbformat": 4,
 "nbformat_minor": 1
}
